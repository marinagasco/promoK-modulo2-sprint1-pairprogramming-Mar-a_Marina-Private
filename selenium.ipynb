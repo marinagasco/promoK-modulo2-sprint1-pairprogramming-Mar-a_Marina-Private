{
 "cells": [
  {
   "cell_type": "code",
   "execution_count": 1,
   "metadata": {},
   "outputs": [],
   "source": [
    "# Importar librerías para tratamiento de datos\n",
    "# -----------------------------------------------------------------------\n",
    "import pandas as pd  # Pandas es una poderosa librería para manipulación y análisis de datos en Python.\n",
    "\n",
    "# Importar librerías para web scraping y manipulación de datos\n",
    "# -----------------------------------------------------------------------\n",
    "from bs4 import BeautifulSoup\n",
    "import requests\n",
    "\n",
    "# Importar librerías para automatización de navegadores web con Selenium\n",
    "# -----------------------------------------------------------------------\n",
    "from selenium import webdriver  # Selenium es una herramienta para automatizar la interacción con navegadores web.\n",
    "from webdriver_manager.chrome import ChromeDriverManager  # ChromeDriverManager gestiona la instalación del controlador de Chrome.\n",
    "from selenium.webdriver.common.keys import Keys  # Keys es útil para simular eventos de teclado en Selenium.\n",
    "from selenium.webdriver.support.ui import Select  # Select se utiliza para interactuar con elementos <select> en páginas web.\n",
    "\n",
    "# Importar librerías para pausar la ejecución\n",
    "# -----------------------------------------------------------------------\n",
    "from time import sleep  # Sleep se utiliza para pausar la ejecución del programa por un número de segundos.\n",
    "\n",
    "# Configuraciones\n",
    "# -----------------------------------------------------------------------\n",
    "pd.set_option('display.max_columns', None)  # Establece una opción de Pandas para mostrar todas las columnas de un DataFrame."
   ]
  },
  {
   "cell_type": "code",
   "execution_count": 2,
   "metadata": {},
   "outputs": [],
   "source": [
    "url = 'https://www.casadellibro.com/'"
   ]
  },
  {
   "cell_type": "code",
   "execution_count": 15,
   "metadata": {},
   "outputs": [
    {
     "ename": "JavascriptException",
     "evalue": "Message: javascript error: Failed to execute 'scrollTo' on 'Window': The provided value is not of type 'ScrollToOptions'.\n  (Session info: chrome=130.0.6723.70)\nStacktrace:\n\tGetHandleVerifier [0x00007FF718623AF5+28005]\n\t(No symbol) [0x00007FF7185883F0]\n\t(No symbol) [0x00007FF71842580A]\n\t(No symbol) [0x00007FF71842C2CC]\n\t(No symbol) [0x00007FF71842E8FF]\n\t(No symbol) [0x00007FF7184BCB90]\n\t(No symbol) [0x00007FF71849BA3A]\n\t(No symbol) [0x00007FF7184BB8B3]\n\t(No symbol) [0x00007FF71849B7E3]\n\t(No symbol) [0x00007FF7184675C8]\n\t(No symbol) [0x00007FF718468731]\n\tGetHandleVerifier [0x00007FF71891646D+3118813]\n\tGetHandleVerifier [0x00007FF718966CC0+3448624]\n\tGetHandleVerifier [0x00007FF71895CF3D+3408301]\n\tGetHandleVerifier [0x00007FF7186EA44B+841403]\n\t(No symbol) [0x00007FF71859344F]\n\t(No symbol) [0x00007FF71858F4C4]\n\t(No symbol) [0x00007FF71858F65D]\n\t(No symbol) [0x00007FF71857EBB9]\n\tBaseThreadInitThunk [0x00007FFC7BEA259D+29]\n\tRtlUserThreadStart [0x00007FFC7CCEAF38+40]\n",
     "output_type": "error",
     "traceback": [
      "\u001b[1;31m---------------------------------------------------------------------------\u001b[0m",
      "\u001b[1;31mJavascriptException\u001b[0m                       Traceback (most recent call last)",
      "Cell \u001b[1;32mIn[15], line 20\u001b[0m\n\u001b[0;32m     17\u001b[0m sleep(\u001b[38;5;241m3\u001b[39m)\n\u001b[0;32m     19\u001b[0m \u001b[38;5;28;01mwhile\u001b[39;00m \u001b[38;5;28;01mTrue\u001b[39;00m: \n\u001b[1;32m---> 20\u001b[0m     driver\u001b[38;5;241m.\u001b[39mexecute_script(\u001b[38;5;124m\"\u001b[39m\u001b[38;5;124mwindow.scrollTo(\u001b[39m\u001b[38;5;124m'\u001b[39m\u001b[38;5;124m3000\u001b[39m\u001b[38;5;124m'\u001b[39m\u001b[38;5;124m);\u001b[39m\u001b[38;5;124m\"\u001b[39m) \n\u001b[0;32m     21\u001b[0m     sleep(\u001b[38;5;241m2\u001b[39m)  \u001b[38;5;66;03m#scroll\u001b[39;00m\n\u001b[0;32m     23\u001b[0m     driver\u001b[38;5;241m.\u001b[39mfind_element(\u001b[38;5;124m\"\u001b[39m\u001b[38;5;124m#App > div.cma-components.container.d-grid.svelte-f3gp65 > cma-component:nth-child(6) > div > div.results.svelte-1f778cw > div.products.d-grid.my-4.grid.svelte-1f778cw > div:nth-child(1) > div:nth-child(4) > a\u001b[39m\u001b[38;5;124m\"\u001b[39m)\u001b[38;5;241m.\u001b[39mclick()\n",
      "File \u001b[1;32mc:\\Users\\ariza\\anaconda3\\Lib\\site-packages\\selenium\\webdriver\\remote\\webdriver.py:414\u001b[0m, in \u001b[0;36mWebDriver.execute_script\u001b[1;34m(self, script, *args)\u001b[0m\n\u001b[0;32m    411\u001b[0m converted_args \u001b[38;5;241m=\u001b[39m \u001b[38;5;28mlist\u001b[39m(args)\n\u001b[0;32m    412\u001b[0m command \u001b[38;5;241m=\u001b[39m Command\u001b[38;5;241m.\u001b[39mW3C_EXECUTE_SCRIPT\n\u001b[1;32m--> 414\u001b[0m \u001b[38;5;28;01mreturn\u001b[39;00m \u001b[38;5;28mself\u001b[39m\u001b[38;5;241m.\u001b[39mexecute(command, {\u001b[38;5;124m\"\u001b[39m\u001b[38;5;124mscript\u001b[39m\u001b[38;5;124m\"\u001b[39m: script, \u001b[38;5;124m\"\u001b[39m\u001b[38;5;124margs\u001b[39m\u001b[38;5;124m\"\u001b[39m: converted_args})[\u001b[38;5;124m\"\u001b[39m\u001b[38;5;124mvalue\u001b[39m\u001b[38;5;124m\"\u001b[39m]\n",
      "File \u001b[1;32mc:\\Users\\ariza\\anaconda3\\Lib\\site-packages\\selenium\\webdriver\\remote\\webdriver.py:354\u001b[0m, in \u001b[0;36mWebDriver.execute\u001b[1;34m(self, driver_command, params)\u001b[0m\n\u001b[0;32m    352\u001b[0m response \u001b[38;5;241m=\u001b[39m \u001b[38;5;28mself\u001b[39m\u001b[38;5;241m.\u001b[39mcommand_executor\u001b[38;5;241m.\u001b[39mexecute(driver_command, params)\n\u001b[0;32m    353\u001b[0m \u001b[38;5;28;01mif\u001b[39;00m response:\n\u001b[1;32m--> 354\u001b[0m     \u001b[38;5;28mself\u001b[39m\u001b[38;5;241m.\u001b[39merror_handler\u001b[38;5;241m.\u001b[39mcheck_response(response)\n\u001b[0;32m    355\u001b[0m     response[\u001b[38;5;124m\"\u001b[39m\u001b[38;5;124mvalue\u001b[39m\u001b[38;5;124m\"\u001b[39m] \u001b[38;5;241m=\u001b[39m \u001b[38;5;28mself\u001b[39m\u001b[38;5;241m.\u001b[39m_unwrap_value(response\u001b[38;5;241m.\u001b[39mget(\u001b[38;5;124m\"\u001b[39m\u001b[38;5;124mvalue\u001b[39m\u001b[38;5;124m\"\u001b[39m, \u001b[38;5;28;01mNone\u001b[39;00m))\n\u001b[0;32m    356\u001b[0m     \u001b[38;5;28;01mreturn\u001b[39;00m response\n",
      "File \u001b[1;32mc:\\Users\\ariza\\anaconda3\\Lib\\site-packages\\selenium\\webdriver\\remote\\errorhandler.py:229\u001b[0m, in \u001b[0;36mErrorHandler.check_response\u001b[1;34m(self, response)\u001b[0m\n\u001b[0;32m    227\u001b[0m         alert_text \u001b[38;5;241m=\u001b[39m value[\u001b[38;5;124m\"\u001b[39m\u001b[38;5;124malert\u001b[39m\u001b[38;5;124m\"\u001b[39m]\u001b[38;5;241m.\u001b[39mget(\u001b[38;5;124m\"\u001b[39m\u001b[38;5;124mtext\u001b[39m\u001b[38;5;124m\"\u001b[39m)\n\u001b[0;32m    228\u001b[0m     \u001b[38;5;28;01mraise\u001b[39;00m exception_class(message, screen, stacktrace, alert_text)  \u001b[38;5;66;03m# type: ignore[call-arg]  # mypy is not smart enough here\u001b[39;00m\n\u001b[1;32m--> 229\u001b[0m \u001b[38;5;28;01mraise\u001b[39;00m exception_class(message, screen, stacktrace)\n",
      "\u001b[1;31mJavascriptException\u001b[0m: Message: javascript error: Failed to execute 'scrollTo' on 'Window': The provided value is not of type 'ScrollToOptions'.\n  (Session info: chrome=130.0.6723.70)\nStacktrace:\n\tGetHandleVerifier [0x00007FF718623AF5+28005]\n\t(No symbol) [0x00007FF7185883F0]\n\t(No symbol) [0x00007FF71842580A]\n\t(No symbol) [0x00007FF71842C2CC]\n\t(No symbol) [0x00007FF71842E8FF]\n\t(No symbol) [0x00007FF7184BCB90]\n\t(No symbol) [0x00007FF71849BA3A]\n\t(No symbol) [0x00007FF7184BB8B3]\n\t(No symbol) [0x00007FF71849B7E3]\n\t(No symbol) [0x00007FF7184675C8]\n\t(No symbol) [0x00007FF718468731]\n\tGetHandleVerifier [0x00007FF71891646D+3118813]\n\tGetHandleVerifier [0x00007FF718966CC0+3448624]\n\tGetHandleVerifier [0x00007FF71895CF3D+3408301]\n\tGetHandleVerifier [0x00007FF7186EA44B+841403]\n\t(No symbol) [0x00007FF71859344F]\n\t(No symbol) [0x00007FF71858F4C4]\n\t(No symbol) [0x00007FF71858F65D]\n\t(No symbol) [0x00007FF71857EBB9]\n\tBaseThreadInitThunk [0x00007FFC7BEA259D+29]\n\tRtlUserThreadStart [0x00007FFC7CCEAF38+40]\n"
     ]
    }
   ],
   "source": [
    "#eleccion_usuario = input(\"Que producto quieres encontrar\")\n",
    "\n",
    "driver = webdriver.Chrome()\n",
    "\n",
    "driver.get(url)\n",
    "\n",
    "driver.maximize_window()\n",
    "\n",
    "sleep(2)\n",
    "\n",
    "driver.find_element(\"css selector\", \"#onetrust-accept-btn-handler\").click()\n",
    "\n",
    "sleep(3)\n",
    "\n",
    "driver.find_element(\"css selector\", \"#App > div.cabecera.svelte-1iqjtwo > div.d-grid.pt-2.svelte-1iqjtwo > div.menu.hidden-xs.hidden-sm.hidden-md.mb-n1.svelte-1qiif35 > div > div:nth-child(2) > a\").click()\n",
    "\n",
    "sleep(3)\n",
    "\n",
    "while True: \n",
    "    driver.execute_script(\"window.scrollTo('3000');\") \n",
    "    sleep(2)  #scroll\n",
    "\n",
    "    driver.find_element(\"#App > div.cma-components.container.d-grid.svelte-f3gp65 > cma-component:nth-child(6) > div > div.results.svelte-1f778cw > div.products.d-grid.my-4.grid.svelte-1f778cw > div:nth-child(1) > div:nth-child(4) > a\").click()\n",
    "\n",
    "    sleep(1)\n",
    "\n",
    "    driver.back()\n",
    "    sleep(3)\n",
    "    driver.close()\n",
    "\n"
   ]
  },
  {
   "cell_type": "code",
   "execution_count": null,
   "metadata": {},
   "outputs": [],
   "source": []
  }
 ],
 "metadata": {
  "kernelspec": {
   "display_name": "base",
   "language": "python",
   "name": "python3"
  },
  "language_info": {
   "codemirror_mode": {
    "name": "ipython",
    "version": 3
   },
   "file_extension": ".py",
   "mimetype": "text/x-python",
   "name": "python",
   "nbconvert_exporter": "python",
   "pygments_lexer": "ipython3",
   "version": "3.12.4"
  }
 },
 "nbformat": 4,
 "nbformat_minor": 2
}
